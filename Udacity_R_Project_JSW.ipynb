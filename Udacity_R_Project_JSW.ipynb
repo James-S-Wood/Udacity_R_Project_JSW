{
 "cells": [
  {
   "cell_type": "markdown",
   "metadata": {},
   "source": [
    "### Explore Bike Share Data\n",
    "\n",
    "For this project, your goal is to ask and answer three questions about the available bikeshare data from Washington, Chicago, and New York.  This notebook can be submitted directly through the workspace when you are confident in your results.\n",
    "\n",
    "You will be graded against the project [Rubric](https://review.udacity.com/#!/rubrics/2508/view) by a mentor after you have submitted.  To get you started, you can use the template below, but feel free to be creative in your solutions!"
   ]
  },
  {
   "cell_type": "code",
   "execution_count": 7,
   "metadata": {},
   "outputs": [],
   "source": [
    "# Importing library\n",
    "library(ggplot2)\n",
    "library(lubridate) # To extract month from date"
   ]
  },
  {
   "cell_type": "code",
   "execution_count": 8,
   "metadata": {},
   "outputs": [],
   "source": [
    "ny = read.csv('new_york_city.csv')\n",
    "wash = read.csv('washington.csv')\n",
    "chi = read.csv('chicago.csv')"
   ]
  },
  {
   "cell_type": "code",
   "execution_count": 9,
   "metadata": {},
   "outputs": [
    {
     "data": {
      "text/html": [
       "<table class=\"dataframe\">\n",
       "<caption>A data.frame: 6 × 9</caption>\n",
       "<thead>\n",
       "\t<tr><th></th><th scope=col>X</th><th scope=col>Start.Time</th><th scope=col>End.Time</th><th scope=col>Trip.Duration</th><th scope=col>Start.Station</th><th scope=col>End.Station</th><th scope=col>User.Type</th><th scope=col>Gender</th><th scope=col>Birth.Year</th></tr>\n",
       "\t<tr><th></th><th scope=col>&lt;int&gt;</th><th scope=col>&lt;fct&gt;</th><th scope=col>&lt;fct&gt;</th><th scope=col>&lt;int&gt;</th><th scope=col>&lt;fct&gt;</th><th scope=col>&lt;fct&gt;</th><th scope=col>&lt;fct&gt;</th><th scope=col>&lt;fct&gt;</th><th scope=col>&lt;dbl&gt;</th></tr>\n",
       "</thead>\n",
       "<tbody>\n",
       "\t<tr><th scope=row>1</th><td>5688089</td><td>2017-06-11 14:55:05</td><td>2017-06-11 15:08:21</td><td> 795</td><td>Suffolk St &amp; Stanton St</td><td>W Broadway &amp; Spring St</td><td>Subscriber</td><td><span style=white-space:pre-wrap>Male  </span></td><td>1998</td></tr>\n",
       "\t<tr><th scope=row>2</th><td>4096714</td><td>2017-05-11 15:30:11</td><td>2017-05-11 15:41:43</td><td> 692</td><td>Lexington Ave &amp; E 63 St</td><td><span style=white-space:pre-wrap>1 Ave &amp; E 78 St       </span></td><td>Subscriber</td><td><span style=white-space:pre-wrap>Male  </span></td><td>1981</td></tr>\n",
       "\t<tr><th scope=row>3</th><td>2173887</td><td>2017-03-29 13:26:26</td><td>2017-03-29 13:48:31</td><td>1325</td><td><span style=white-space:pre-wrap>1 Pl &amp; Clinton St      </span></td><td><span style=white-space:pre-wrap>Henry St &amp; Degraw St  </span></td><td>Subscriber</td><td><span style=white-space:pre-wrap>Male  </span></td><td>1987</td></tr>\n",
       "\t<tr><th scope=row>4</th><td>3945638</td><td>2017-05-08 19:47:18</td><td>2017-05-08 19:59:01</td><td> 703</td><td><span style=white-space:pre-wrap>Barrow St &amp; Hudson St  </span></td><td><span style=white-space:pre-wrap>W 20 St &amp; 8 Ave       </span></td><td>Subscriber</td><td>Female</td><td>1986</td></tr>\n",
       "\t<tr><th scope=row>5</th><td>6208972</td><td>2017-06-21 07:49:16</td><td>2017-06-21 07:54:46</td><td> 329</td><td><span style=white-space:pre-wrap>1 Ave &amp; E 44 St        </span></td><td><span style=white-space:pre-wrap>E 53 St &amp; 3 Ave       </span></td><td>Subscriber</td><td><span style=white-space:pre-wrap>Male  </span></td><td>1992</td></tr>\n",
       "\t<tr><th scope=row>6</th><td>1285652</td><td>2017-02-22 18:55:24</td><td>2017-02-22 19:12:03</td><td> 998</td><td><span style=white-space:pre-wrap>State St &amp; Smith St    </span></td><td><span style=white-space:pre-wrap>Bond St &amp; Fulton St   </span></td><td>Subscriber</td><td><span style=white-space:pre-wrap>Male  </span></td><td>1986</td></tr>\n",
       "</tbody>\n",
       "</table>\n"
      ],
      "text/latex": [
       "A data.frame: 6 × 9\n",
       "\\begin{tabular}{r|lllllllll}\n",
       "  & X & Start.Time & End.Time & Trip.Duration & Start.Station & End.Station & User.Type & Gender & Birth.Year\\\\\n",
       "  & <int> & <fct> & <fct> & <int> & <fct> & <fct> & <fct> & <fct> & <dbl>\\\\\n",
       "\\hline\n",
       "\t1 & 5688089 & 2017-06-11 14:55:05 & 2017-06-11 15:08:21 &  795 & Suffolk St \\& Stanton St & W Broadway \\& Spring St & Subscriber & Male   & 1998\\\\\n",
       "\t2 & 4096714 & 2017-05-11 15:30:11 & 2017-05-11 15:41:43 &  692 & Lexington Ave \\& E 63 St & 1 Ave \\& E 78 St        & Subscriber & Male   & 1981\\\\\n",
       "\t3 & 2173887 & 2017-03-29 13:26:26 & 2017-03-29 13:48:31 & 1325 & 1 Pl \\& Clinton St       & Henry St \\& Degraw St   & Subscriber & Male   & 1987\\\\\n",
       "\t4 & 3945638 & 2017-05-08 19:47:18 & 2017-05-08 19:59:01 &  703 & Barrow St \\& Hudson St   & W 20 St \\& 8 Ave        & Subscriber & Female & 1986\\\\\n",
       "\t5 & 6208972 & 2017-06-21 07:49:16 & 2017-06-21 07:54:46 &  329 & 1 Ave \\& E 44 St         & E 53 St \\& 3 Ave        & Subscriber & Male   & 1992\\\\\n",
       "\t6 & 1285652 & 2017-02-22 18:55:24 & 2017-02-22 19:12:03 &  998 & State St \\& Smith St     & Bond St \\& Fulton St    & Subscriber & Male   & 1986\\\\\n",
       "\\end{tabular}\n"
      ],
      "text/markdown": [
       "\n",
       "A data.frame: 6 × 9\n",
       "\n",
       "| <!--/--> | X &lt;int&gt; | Start.Time &lt;fct&gt; | End.Time &lt;fct&gt; | Trip.Duration &lt;int&gt; | Start.Station &lt;fct&gt; | End.Station &lt;fct&gt; | User.Type &lt;fct&gt; | Gender &lt;fct&gt; | Birth.Year &lt;dbl&gt; |\n",
       "|---|---|---|---|---|---|---|---|---|---|\n",
       "| 1 | 5688089 | 2017-06-11 14:55:05 | 2017-06-11 15:08:21 |  795 | Suffolk St &amp; Stanton St | W Broadway &amp; Spring St | Subscriber | Male   | 1998 |\n",
       "| 2 | 4096714 | 2017-05-11 15:30:11 | 2017-05-11 15:41:43 |  692 | Lexington Ave &amp; E 63 St | 1 Ave &amp; E 78 St        | Subscriber | Male   | 1981 |\n",
       "| 3 | 2173887 | 2017-03-29 13:26:26 | 2017-03-29 13:48:31 | 1325 | 1 Pl &amp; Clinton St       | Henry St &amp; Degraw St   | Subscriber | Male   | 1987 |\n",
       "| 4 | 3945638 | 2017-05-08 19:47:18 | 2017-05-08 19:59:01 |  703 | Barrow St &amp; Hudson St   | W 20 St &amp; 8 Ave        | Subscriber | Female | 1986 |\n",
       "| 5 | 6208972 | 2017-06-21 07:49:16 | 2017-06-21 07:54:46 |  329 | 1 Ave &amp; E 44 St         | E 53 St &amp; 3 Ave        | Subscriber | Male   | 1992 |\n",
       "| 6 | 1285652 | 2017-02-22 18:55:24 | 2017-02-22 19:12:03 |  998 | State St &amp; Smith St     | Bond St &amp; Fulton St    | Subscriber | Male   | 1986 |\n",
       "\n"
      ],
      "text/plain": [
       "  X       Start.Time          End.Time            Trip.Duration\n",
       "1 5688089 2017-06-11 14:55:05 2017-06-11 15:08:21  795         \n",
       "2 4096714 2017-05-11 15:30:11 2017-05-11 15:41:43  692         \n",
       "3 2173887 2017-03-29 13:26:26 2017-03-29 13:48:31 1325         \n",
       "4 3945638 2017-05-08 19:47:18 2017-05-08 19:59:01  703         \n",
       "5 6208972 2017-06-21 07:49:16 2017-06-21 07:54:46  329         \n",
       "6 1285652 2017-02-22 18:55:24 2017-02-22 19:12:03  998         \n",
       "  Start.Station           End.Station            User.Type  Gender Birth.Year\n",
       "1 Suffolk St & Stanton St W Broadway & Spring St Subscriber Male   1998      \n",
       "2 Lexington Ave & E 63 St 1 Ave & E 78 St        Subscriber Male   1981      \n",
       "3 1 Pl & Clinton St       Henry St & Degraw St   Subscriber Male   1987      \n",
       "4 Barrow St & Hudson St   W 20 St & 8 Ave        Subscriber Female 1986      \n",
       "5 1 Ave & E 44 St         E 53 St & 3 Ave        Subscriber Male   1992      \n",
       "6 State St & Smith St     Bond St & Fulton St    Subscriber Male   1986      "
      ]
     },
     "metadata": {},
     "output_type": "display_data"
    }
   ],
   "source": [
    "head(ny)"
   ]
  },
  {
   "cell_type": "code",
   "execution_count": 10,
   "metadata": {},
   "outputs": [
    {
     "name": "stdout",
     "output_type": "stream",
     "text": [
      "'data.frame':\t54770 obs. of  9 variables:\n",
      " $ X            : int  5688089 4096714 2173887 3945638 6208972 1285652 1675753 1692245 2271331 1558339 ...\n",
      " $ Start.Time   : Factor w/ 54568 levels \"2017-01-01 00:17:01\",..: 45448 32799 17316 31589 49688 10220 13390 13509 18111 12449 ...\n",
      " $ End.Time     : Factor w/ 54562 levels \"201\",\"2017-01-01 00:30:56\",..: 45432 32783 17295 31567 49668 10204 13364 13505 18092 12422 ...\n",
      " $ Trip.Duration: int  795 692 1325 703 329 998 478 4038 5132 309 ...\n",
      " $ Start.Station: Factor w/ 636 levels \"\",\"1 Ave & E 16 St\",..: 522 406 10 93 5 521 325 309 151 245 ...\n",
      " $ End.Station  : Factor w/ 638 levels \"\",\"1 Ave & E 16 St\",..: 613 8 362 558 269 107 389 110 151 243 ...\n",
      " $ User.Type    : Factor w/ 3 levels \"\",\"Customer\",..: 3 3 3 3 3 3 3 3 2 3 ...\n",
      " $ Gender       : Factor w/ 3 levels \"\",\"Female\",\"Male\": 3 3 3 2 3 3 3 3 1 3 ...\n",
      " $ Birth.Year   : num  1998 1981 1987 1986 1992 ...\n"
     ]
    }
   ],
   "source": [
    "# data structure of New York City\n",
    "str(ny)"
   ]
  },
  {
   "cell_type": "code",
   "execution_count": 11,
   "metadata": {},
   "outputs": [
    {
     "data": {
      "text/html": [
       "<table class=\"dataframe\">\n",
       "<caption>A data.frame: 6 × 7</caption>\n",
       "<thead>\n",
       "\t<tr><th></th><th scope=col>X</th><th scope=col>Start.Time</th><th scope=col>End.Time</th><th scope=col>Trip.Duration</th><th scope=col>Start.Station</th><th scope=col>End.Station</th><th scope=col>User.Type</th></tr>\n",
       "\t<tr><th></th><th scope=col>&lt;int&gt;</th><th scope=col>&lt;fct&gt;</th><th scope=col>&lt;fct&gt;</th><th scope=col>&lt;dbl&gt;</th><th scope=col>&lt;fct&gt;</th><th scope=col>&lt;fct&gt;</th><th scope=col>&lt;fct&gt;</th></tr>\n",
       "</thead>\n",
       "<tbody>\n",
       "\t<tr><th scope=row>1</th><td>1621326</td><td>2017-06-21 08:36:34</td><td>2017-06-21 08:44:43</td><td> 489.066</td><td><span style=white-space:pre-wrap>14th &amp; Belmont St NW                       </span></td><td><span style=white-space:pre-wrap>15th &amp; K St NW                                     </span></td><td>Subscriber</td></tr>\n",
       "\t<tr><th scope=row>2</th><td> 482740</td><td>2017-03-11 10:40:00</td><td>2017-03-11 10:46:00</td><td> 402.549</td><td><span style=white-space:pre-wrap>Yuma St &amp; Tenley Circle NW                 </span></td><td><span style=white-space:pre-wrap>Connecticut Ave &amp; Yuma St NW                       </span></td><td>Subscriber</td></tr>\n",
       "\t<tr><th scope=row>3</th><td>1330037</td><td>2017-05-30 01:02:59</td><td>2017-05-30 01:13:37</td><td> 637.251</td><td><span style=white-space:pre-wrap>17th St &amp; Massachusetts Ave NW             </span></td><td><span style=white-space:pre-wrap>5th &amp; K St NW                                      </span></td><td>Subscriber</td></tr>\n",
       "\t<tr><th scope=row>4</th><td> 665458</td><td>2017-04-02 07:48:35</td><td>2017-04-02 08:19:03</td><td>1827.341</td><td><span style=white-space:pre-wrap>Constitution Ave &amp; 2nd St NW/DOL           </span></td><td><span style=white-space:pre-wrap>M St &amp; Pennsylvania Ave NW                         </span></td><td><span style=white-space:pre-wrap>Customer  </span></td></tr>\n",
       "\t<tr><th scope=row>5</th><td>1481135</td><td>2017-06-10 08:36:28</td><td>2017-06-10 09:02:17</td><td>1549.427</td><td>Henry Bacon Dr &amp; Lincoln Memorial Circle NW</td><td><span style=white-space:pre-wrap>Maine Ave &amp; 7th St SW                              </span></td><td>Subscriber</td></tr>\n",
       "\t<tr><th scope=row>6</th><td>1148202</td><td>2017-05-14 07:18:18</td><td>2017-05-14 07:24:56</td><td> 398.000</td><td><span style=white-space:pre-wrap>1st &amp; K St SE                              </span></td><td>Eastern Market Metro / Pennsylvania Ave &amp; 7th St SE</td><td>Subscriber</td></tr>\n",
       "</tbody>\n",
       "</table>\n"
      ],
      "text/latex": [
       "A data.frame: 6 × 7\n",
       "\\begin{tabular}{r|lllllll}\n",
       "  & X & Start.Time & End.Time & Trip.Duration & Start.Station & End.Station & User.Type\\\\\n",
       "  & <int> & <fct> & <fct> & <dbl> & <fct> & <fct> & <fct>\\\\\n",
       "\\hline\n",
       "\t1 & 1621326 & 2017-06-21 08:36:34 & 2017-06-21 08:44:43 &  489.066 & 14th \\& Belmont St NW                        & 15th \\& K St NW                                      & Subscriber\\\\\n",
       "\t2 &  482740 & 2017-03-11 10:40:00 & 2017-03-11 10:46:00 &  402.549 & Yuma St \\& Tenley Circle NW                  & Connecticut Ave \\& Yuma St NW                        & Subscriber\\\\\n",
       "\t3 & 1330037 & 2017-05-30 01:02:59 & 2017-05-30 01:13:37 &  637.251 & 17th St \\& Massachusetts Ave NW              & 5th \\& K St NW                                       & Subscriber\\\\\n",
       "\t4 &  665458 & 2017-04-02 07:48:35 & 2017-04-02 08:19:03 & 1827.341 & Constitution Ave \\& 2nd St NW/DOL            & M St \\& Pennsylvania Ave NW                          & Customer  \\\\\n",
       "\t5 & 1481135 & 2017-06-10 08:36:28 & 2017-06-10 09:02:17 & 1549.427 & Henry Bacon Dr \\& Lincoln Memorial Circle NW & Maine Ave \\& 7th St SW                               & Subscriber\\\\\n",
       "\t6 & 1148202 & 2017-05-14 07:18:18 & 2017-05-14 07:24:56 &  398.000 & 1st \\& K St SE                               & Eastern Market Metro / Pennsylvania Ave \\& 7th St SE & Subscriber\\\\\n",
       "\\end{tabular}\n"
      ],
      "text/markdown": [
       "\n",
       "A data.frame: 6 × 7\n",
       "\n",
       "| <!--/--> | X &lt;int&gt; | Start.Time &lt;fct&gt; | End.Time &lt;fct&gt; | Trip.Duration &lt;dbl&gt; | Start.Station &lt;fct&gt; | End.Station &lt;fct&gt; | User.Type &lt;fct&gt; |\n",
       "|---|---|---|---|---|---|---|---|\n",
       "| 1 | 1621326 | 2017-06-21 08:36:34 | 2017-06-21 08:44:43 |  489.066 | 14th &amp; Belmont St NW                        | 15th &amp; K St NW                                      | Subscriber |\n",
       "| 2 |  482740 | 2017-03-11 10:40:00 | 2017-03-11 10:46:00 |  402.549 | Yuma St &amp; Tenley Circle NW                  | Connecticut Ave &amp; Yuma St NW                        | Subscriber |\n",
       "| 3 | 1330037 | 2017-05-30 01:02:59 | 2017-05-30 01:13:37 |  637.251 | 17th St &amp; Massachusetts Ave NW              | 5th &amp; K St NW                                       | Subscriber |\n",
       "| 4 |  665458 | 2017-04-02 07:48:35 | 2017-04-02 08:19:03 | 1827.341 | Constitution Ave &amp; 2nd St NW/DOL            | M St &amp; Pennsylvania Ave NW                          | Customer   |\n",
       "| 5 | 1481135 | 2017-06-10 08:36:28 | 2017-06-10 09:02:17 | 1549.427 | Henry Bacon Dr &amp; Lincoln Memorial Circle NW | Maine Ave &amp; 7th St SW                               | Subscriber |\n",
       "| 6 | 1148202 | 2017-05-14 07:18:18 | 2017-05-14 07:24:56 |  398.000 | 1st &amp; K St SE                               | Eastern Market Metro / Pennsylvania Ave &amp; 7th St SE | Subscriber |\n",
       "\n"
      ],
      "text/plain": [
       "  X       Start.Time          End.Time            Trip.Duration\n",
       "1 1621326 2017-06-21 08:36:34 2017-06-21 08:44:43  489.066     \n",
       "2  482740 2017-03-11 10:40:00 2017-03-11 10:46:00  402.549     \n",
       "3 1330037 2017-05-30 01:02:59 2017-05-30 01:13:37  637.251     \n",
       "4  665458 2017-04-02 07:48:35 2017-04-02 08:19:03 1827.341     \n",
       "5 1481135 2017-06-10 08:36:28 2017-06-10 09:02:17 1549.427     \n",
       "6 1148202 2017-05-14 07:18:18 2017-05-14 07:24:56  398.000     \n",
       "  Start.Station                              \n",
       "1 14th & Belmont St NW                       \n",
       "2 Yuma St & Tenley Circle NW                 \n",
       "3 17th St & Massachusetts Ave NW             \n",
       "4 Constitution Ave & 2nd St NW/DOL           \n",
       "5 Henry Bacon Dr & Lincoln Memorial Circle NW\n",
       "6 1st & K St SE                              \n",
       "  End.Station                                         User.Type \n",
       "1 15th & K St NW                                      Subscriber\n",
       "2 Connecticut Ave & Yuma St NW                        Subscriber\n",
       "3 5th & K St NW                                       Subscriber\n",
       "4 M St & Pennsylvania Ave NW                          Customer  \n",
       "5 Maine Ave & 7th St SW                               Subscriber\n",
       "6 Eastern Market Metro / Pennsylvania Ave & 7th St SE Subscriber"
      ]
     },
     "metadata": {},
     "output_type": "display_data"
    }
   ],
   "source": [
    "head(wash)"
   ]
  },
  {
   "cell_type": "code",
   "execution_count": 12,
   "metadata": {},
   "outputs": [
    {
     "name": "stdout",
     "output_type": "stream",
     "text": [
      "'data.frame':\t89051 obs. of  7 variables:\n",
      " $ X            : int  1621326 482740 1330037 665458 1481135 1148202 1594275 1601832 574182 327058 ...\n",
      " $ Start.Time   : Factor w/ 81223 levels \"\",\"2017-01-01 00:11:00\",..: 74753 19510 59964 26708 67716 50891 73381 73775 23142 13333 ...\n",
      " $ End.Time     : Factor w/ 81217 levels \"\",\"2017-01-01 00:14:00\",..: 74744 19473 59981 26732 67753 50918 73397 73775 23114 13350 ...\n",
      " $ Trip.Duration: num  489 403 637 1827 1549 ...\n",
      " $ Start.Station: Factor w/ 478 levels \"\",\"10th & E St NW\",..: 27 478 66 221 278 84 368 82 71 60 ...\n",
      " $ End.Station  : Factor w/ 479 levels \"\",\"10th & E St NW\",..: 47 219 144 312 315 239 162 376 51 308 ...\n",
      " $ User.Type    : Factor w/ 3 levels \"\",\"Customer\",..: 3 3 3 2 3 3 3 3 3 3 ...\n"
     ]
    }
   ],
   "source": [
    "# data structure of Washington\n",
    "str(wash)"
   ]
  },
  {
   "cell_type": "code",
   "execution_count": 13,
   "metadata": {},
   "outputs": [
    {
     "data": {
      "text/html": [
       "<table class=\"dataframe\">\n",
       "<caption>A data.frame: 6 × 9</caption>\n",
       "<thead>\n",
       "\t<tr><th></th><th scope=col>X</th><th scope=col>Start.Time</th><th scope=col>End.Time</th><th scope=col>Trip.Duration</th><th scope=col>Start.Station</th><th scope=col>End.Station</th><th scope=col>User.Type</th><th scope=col>Gender</th><th scope=col>Birth.Year</th></tr>\n",
       "\t<tr><th></th><th scope=col>&lt;int&gt;</th><th scope=col>&lt;fct&gt;</th><th scope=col>&lt;fct&gt;</th><th scope=col>&lt;int&gt;</th><th scope=col>&lt;fct&gt;</th><th scope=col>&lt;fct&gt;</th><th scope=col>&lt;fct&gt;</th><th scope=col>&lt;fct&gt;</th><th scope=col>&lt;dbl&gt;</th></tr>\n",
       "</thead>\n",
       "<tbody>\n",
       "\t<tr><th scope=row>1</th><td>1423854</td><td>2017-06-23 15:09:32</td><td>2017-06-23 15:14:53</td><td> 321</td><td><span style=white-space:pre-wrap>Wood St &amp; Hubbard St         </span></td><td><span style=white-space:pre-wrap>Damen Ave &amp; Chicago Ave     </span></td><td>Subscriber</td><td><span style=white-space:pre-wrap>Male  </span></td><td>1992</td></tr>\n",
       "\t<tr><th scope=row>2</th><td> 955915</td><td>2017-05-25 18:19:03</td><td>2017-05-25 18:45:53</td><td>1610</td><td><span style=white-space:pre-wrap>Theater on the Lake          </span></td><td>Sheffield Ave &amp; Waveland Ave</td><td>Subscriber</td><td>Female</td><td>1992</td></tr>\n",
       "\t<tr><th scope=row>3</th><td><span style=white-space:pre-wrap>   9031</span></td><td>2017-01-04 08:27:49</td><td>2017-01-04 08:34:45</td><td> 416</td><td><span style=white-space:pre-wrap>May St &amp; Taylor St           </span></td><td><span style=white-space:pre-wrap>Wood St &amp; Taylor St         </span></td><td>Subscriber</td><td><span style=white-space:pre-wrap>Male  </span></td><td>1981</td></tr>\n",
       "\t<tr><th scope=row>4</th><td> 304487</td><td>2017-03-06 13:49:38</td><td>2017-03-06 13:55:28</td><td> 350</td><td>Christiana Ave &amp; Lawrence Ave</td><td>St. Louis Ave &amp; Balmoral Ave</td><td>Subscriber</td><td><span style=white-space:pre-wrap>Male  </span></td><td>1986</td></tr>\n",
       "\t<tr><th scope=row>5</th><td><span style=white-space:pre-wrap>  45207</span></td><td>2017-01-17 14:53:07</td><td>2017-01-17 15:02:01</td><td> 534</td><td><span style=white-space:pre-wrap>Clark St &amp; Randolph St       </span></td><td>Desplaines St &amp; Jackson Blvd</td><td>Subscriber</td><td><span style=white-space:pre-wrap>Male  </span></td><td>1975</td></tr>\n",
       "\t<tr><th scope=row>6</th><td>1473887</td><td>2017-06-26 09:01:20</td><td>2017-06-26 09:11:06</td><td> 586</td><td>Clinton St &amp; Washington Blvd </td><td><span style=white-space:pre-wrap>Canal St &amp; Taylor St        </span></td><td>Subscriber</td><td><span style=white-space:pre-wrap>Male  </span></td><td>1990</td></tr>\n",
       "</tbody>\n",
       "</table>\n"
      ],
      "text/latex": [
       "A data.frame: 6 × 9\n",
       "\\begin{tabular}{r|lllllllll}\n",
       "  & X & Start.Time & End.Time & Trip.Duration & Start.Station & End.Station & User.Type & Gender & Birth.Year\\\\\n",
       "  & <int> & <fct> & <fct> & <int> & <fct> & <fct> & <fct> & <fct> & <dbl>\\\\\n",
       "\\hline\n",
       "\t1 & 1423854 & 2017-06-23 15:09:32 & 2017-06-23 15:14:53 &  321 & Wood St \\& Hubbard St          & Damen Ave \\& Chicago Ave      & Subscriber & Male   & 1992\\\\\n",
       "\t2 &  955915 & 2017-05-25 18:19:03 & 2017-05-25 18:45:53 & 1610 & Theater on the Lake           & Sheffield Ave \\& Waveland Ave & Subscriber & Female & 1992\\\\\n",
       "\t3 &    9031 & 2017-01-04 08:27:49 & 2017-01-04 08:34:45 &  416 & May St \\& Taylor St            & Wood St \\& Taylor St          & Subscriber & Male   & 1981\\\\\n",
       "\t4 &  304487 & 2017-03-06 13:49:38 & 2017-03-06 13:55:28 &  350 & Christiana Ave \\& Lawrence Ave & St. Louis Ave \\& Balmoral Ave & Subscriber & Male   & 1986\\\\\n",
       "\t5 &   45207 & 2017-01-17 14:53:07 & 2017-01-17 15:02:01 &  534 & Clark St \\& Randolph St        & Desplaines St \\& Jackson Blvd & Subscriber & Male   & 1975\\\\\n",
       "\t6 & 1473887 & 2017-06-26 09:01:20 & 2017-06-26 09:11:06 &  586 & Clinton St \\& Washington Blvd  & Canal St \\& Taylor St         & Subscriber & Male   & 1990\\\\\n",
       "\\end{tabular}\n"
      ],
      "text/markdown": [
       "\n",
       "A data.frame: 6 × 9\n",
       "\n",
       "| <!--/--> | X &lt;int&gt; | Start.Time &lt;fct&gt; | End.Time &lt;fct&gt; | Trip.Duration &lt;int&gt; | Start.Station &lt;fct&gt; | End.Station &lt;fct&gt; | User.Type &lt;fct&gt; | Gender &lt;fct&gt; | Birth.Year &lt;dbl&gt; |\n",
       "|---|---|---|---|---|---|---|---|---|---|\n",
       "| 1 | 1423854 | 2017-06-23 15:09:32 | 2017-06-23 15:14:53 |  321 | Wood St &amp; Hubbard St          | Damen Ave &amp; Chicago Ave      | Subscriber | Male   | 1992 |\n",
       "| 2 |  955915 | 2017-05-25 18:19:03 | 2017-05-25 18:45:53 | 1610 | Theater on the Lake           | Sheffield Ave &amp; Waveland Ave | Subscriber | Female | 1992 |\n",
       "| 3 |    9031 | 2017-01-04 08:27:49 | 2017-01-04 08:34:45 |  416 | May St &amp; Taylor St            | Wood St &amp; Taylor St          | Subscriber | Male   | 1981 |\n",
       "| 4 |  304487 | 2017-03-06 13:49:38 | 2017-03-06 13:55:28 |  350 | Christiana Ave &amp; Lawrence Ave | St. Louis Ave &amp; Balmoral Ave | Subscriber | Male   | 1986 |\n",
       "| 5 |   45207 | 2017-01-17 14:53:07 | 2017-01-17 15:02:01 |  534 | Clark St &amp; Randolph St        | Desplaines St &amp; Jackson Blvd | Subscriber | Male   | 1975 |\n",
       "| 6 | 1473887 | 2017-06-26 09:01:20 | 2017-06-26 09:11:06 |  586 | Clinton St &amp; Washington Blvd  | Canal St &amp; Taylor St         | Subscriber | Male   | 1990 |\n",
       "\n"
      ],
      "text/plain": [
       "  X       Start.Time          End.Time            Trip.Duration\n",
       "1 1423854 2017-06-23 15:09:32 2017-06-23 15:14:53  321         \n",
       "2  955915 2017-05-25 18:19:03 2017-05-25 18:45:53 1610         \n",
       "3    9031 2017-01-04 08:27:49 2017-01-04 08:34:45  416         \n",
       "4  304487 2017-03-06 13:49:38 2017-03-06 13:55:28  350         \n",
       "5   45207 2017-01-17 14:53:07 2017-01-17 15:02:01  534         \n",
       "6 1473887 2017-06-26 09:01:20 2017-06-26 09:11:06  586         \n",
       "  Start.Station                 End.Station                  User.Type  Gender\n",
       "1 Wood St & Hubbard St          Damen Ave & Chicago Ave      Subscriber Male  \n",
       "2 Theater on the Lake           Sheffield Ave & Waveland Ave Subscriber Female\n",
       "3 May St & Taylor St            Wood St & Taylor St          Subscriber Male  \n",
       "4 Christiana Ave & Lawrence Ave St. Louis Ave & Balmoral Ave Subscriber Male  \n",
       "5 Clark St & Randolph St        Desplaines St & Jackson Blvd Subscriber Male  \n",
       "6 Clinton St & Washington Blvd  Canal St & Taylor St         Subscriber Male  \n",
       "  Birth.Year\n",
       "1 1992      \n",
       "2 1992      \n",
       "3 1981      \n",
       "4 1986      \n",
       "5 1975      \n",
       "6 1990      "
      ]
     },
     "metadata": {},
     "output_type": "display_data"
    }
   ],
   "source": [
    "head(chi)"
   ]
  },
  {
   "cell_type": "code",
   "execution_count": 14,
   "metadata": {},
   "outputs": [
    {
     "name": "stdout",
     "output_type": "stream",
     "text": [
      "'data.frame':\t8630 obs. of  9 variables:\n",
      " $ X            : int  1423854 955915 9031 304487 45207 1473887 961916 65924 606841 135470 ...\n",
      " $ Start.Time   : Factor w/ 8624 levels \"2017-01-01 00:40:14\",..: 7876 5303 73 1721 267 8173 5347 368 3376 795 ...\n",
      " $ End.Time     : Factor w/ 8625 levels \"2017-01-01 00:46:32\",..: 7876 5303 73 1722 267 8173 5346 368 3376 796 ...\n",
      " $ Trip.Duration: int  321 1610 416 350 534 586 281 723 689 493 ...\n",
      " $ Start.Station: Factor w/ 472 levels \"2112 W Peterson Ave\",..: 468 424 291 80 103 119 22 255 374 420 ...\n",
      " $ End.Station  : Factor w/ 471 levels \"\",\"2112 W Peterson Ave\",..: 132 381 469 409 151 70 467 251 200 118 ...\n",
      " $ User.Type    : Factor w/ 3 levels \"\",\"Customer\",..: 3 3 3 3 3 3 3 2 3 3 ...\n",
      " $ Gender       : Factor w/ 3 levels \"\",\"Female\",\"Male\": 3 2 3 3 3 3 2 1 3 3 ...\n",
      " $ Birth.Year   : num  1992 1992 1981 1986 1975 ...\n"
     ]
    }
   ],
   "source": [
    "# data structure Chicago\n",
    "str(chi)"
   ]
  },
  {
   "cell_type": "markdown",
   "metadata": {},
   "source": [
    "#### Data Wrangling\n",
    "\n",
    "A bit of manipulation of data to make task easier"
   ]
  },
  {
   "cell_type": "code",
   "execution_count": 15,
   "metadata": {},
   "outputs": [],
   "source": [
    "# Creating null columns of 'Gender' and 'Birth.Year' in the Washington dataset to be able to concatenate all\n",
    "wash$Gender <- NA\n",
    "wash$Birth.Year <-NA"
   ]
  },
  {
   "cell_type": "code",
   "execution_count": 16,
   "metadata": {},
   "outputs": [],
   "source": [
    "# Adding a new column 'City' to each dataset to retain info about city after concatenation\n",
    "ny$City <- 'New York City'\n",
    "wash$City <- 'Washington'\n",
    "chi$City <- 'Chicago'"
   ]
  },
  {
   "cell_type": "code",
   "execution_count": 17,
   "metadata": {},
   "outputs": [],
   "source": [
    "#Creating a function for concatenation\n",
    "concatenation <- function(d1, d2) {\n",
    "  return(rbind(d1, d2))\n",
    "}"
   ]
  },
  {
   "cell_type": "code",
   "execution_count": 18,
   "metadata": {},
   "outputs": [
    {
     "data": {
      "text/html": [
       "<table class=\"dataframe\">\n",
       "<caption>A data.frame: 6 × 10</caption>\n",
       "<thead>\n",
       "\t<tr><th></th><th scope=col>X</th><th scope=col>Start.Time</th><th scope=col>End.Time</th><th scope=col>Trip.Duration</th><th scope=col>Start.Station</th><th scope=col>End.Station</th><th scope=col>User.Type</th><th scope=col>Gender</th><th scope=col>Birth.Year</th><th scope=col>City</th></tr>\n",
       "\t<tr><th></th><th scope=col>&lt;int&gt;</th><th scope=col>&lt;fct&gt;</th><th scope=col>&lt;fct&gt;</th><th scope=col>&lt;dbl&gt;</th><th scope=col>&lt;fct&gt;</th><th scope=col>&lt;fct&gt;</th><th scope=col>&lt;fct&gt;</th><th scope=col>&lt;fct&gt;</th><th scope=col>&lt;dbl&gt;</th><th scope=col>&lt;chr&gt;</th></tr>\n",
       "</thead>\n",
       "<tbody>\n",
       "\t<tr><th scope=row>1</th><td>5688089</td><td>2017-06-11 14:55:05</td><td>2017-06-11 15:08:21</td><td> 795</td><td>Suffolk St &amp; Stanton St</td><td>W Broadway &amp; Spring St</td><td>Subscriber</td><td><span style=white-space:pre-wrap>Male  </span></td><td>1998</td><td>New York City</td></tr>\n",
       "\t<tr><th scope=row>2</th><td>4096714</td><td>2017-05-11 15:30:11</td><td>2017-05-11 15:41:43</td><td> 692</td><td>Lexington Ave &amp; E 63 St</td><td><span style=white-space:pre-wrap>1 Ave &amp; E 78 St       </span></td><td>Subscriber</td><td><span style=white-space:pre-wrap>Male  </span></td><td>1981</td><td>New York City</td></tr>\n",
       "\t<tr><th scope=row>3</th><td>2173887</td><td>2017-03-29 13:26:26</td><td>2017-03-29 13:48:31</td><td>1325</td><td><span style=white-space:pre-wrap>1 Pl &amp; Clinton St      </span></td><td><span style=white-space:pre-wrap>Henry St &amp; Degraw St  </span></td><td>Subscriber</td><td><span style=white-space:pre-wrap>Male  </span></td><td>1987</td><td>New York City</td></tr>\n",
       "\t<tr><th scope=row>4</th><td>3945638</td><td>2017-05-08 19:47:18</td><td>2017-05-08 19:59:01</td><td> 703</td><td><span style=white-space:pre-wrap>Barrow St &amp; Hudson St  </span></td><td><span style=white-space:pre-wrap>W 20 St &amp; 8 Ave       </span></td><td>Subscriber</td><td>Female</td><td>1986</td><td>New York City</td></tr>\n",
       "\t<tr><th scope=row>5</th><td>6208972</td><td>2017-06-21 07:49:16</td><td>2017-06-21 07:54:46</td><td> 329</td><td><span style=white-space:pre-wrap>1 Ave &amp; E 44 St        </span></td><td><span style=white-space:pre-wrap>E 53 St &amp; 3 Ave       </span></td><td>Subscriber</td><td><span style=white-space:pre-wrap>Male  </span></td><td>1992</td><td>New York City</td></tr>\n",
       "\t<tr><th scope=row>6</th><td>1285652</td><td>2017-02-22 18:55:24</td><td>2017-02-22 19:12:03</td><td> 998</td><td><span style=white-space:pre-wrap>State St &amp; Smith St    </span></td><td><span style=white-space:pre-wrap>Bond St &amp; Fulton St   </span></td><td>Subscriber</td><td><span style=white-space:pre-wrap>Male  </span></td><td>1986</td><td>New York City</td></tr>\n",
       "</tbody>\n",
       "</table>\n"
      ],
      "text/latex": [
       "A data.frame: 6 × 10\n",
       "\\begin{tabular}{r|llllllllll}\n",
       "  & X & Start.Time & End.Time & Trip.Duration & Start.Station & End.Station & User.Type & Gender & Birth.Year & City\\\\\n",
       "  & <int> & <fct> & <fct> & <dbl> & <fct> & <fct> & <fct> & <fct> & <dbl> & <chr>\\\\\n",
       "\\hline\n",
       "\t1 & 5688089 & 2017-06-11 14:55:05 & 2017-06-11 15:08:21 &  795 & Suffolk St \\& Stanton St & W Broadway \\& Spring St & Subscriber & Male   & 1998 & New York City\\\\\n",
       "\t2 & 4096714 & 2017-05-11 15:30:11 & 2017-05-11 15:41:43 &  692 & Lexington Ave \\& E 63 St & 1 Ave \\& E 78 St        & Subscriber & Male   & 1981 & New York City\\\\\n",
       "\t3 & 2173887 & 2017-03-29 13:26:26 & 2017-03-29 13:48:31 & 1325 & 1 Pl \\& Clinton St       & Henry St \\& Degraw St   & Subscriber & Male   & 1987 & New York City\\\\\n",
       "\t4 & 3945638 & 2017-05-08 19:47:18 & 2017-05-08 19:59:01 &  703 & Barrow St \\& Hudson St   & W 20 St \\& 8 Ave        & Subscriber & Female & 1986 & New York City\\\\\n",
       "\t5 & 6208972 & 2017-06-21 07:49:16 & 2017-06-21 07:54:46 &  329 & 1 Ave \\& E 44 St         & E 53 St \\& 3 Ave        & Subscriber & Male   & 1992 & New York City\\\\\n",
       "\t6 & 1285652 & 2017-02-22 18:55:24 & 2017-02-22 19:12:03 &  998 & State St \\& Smith St     & Bond St \\& Fulton St    & Subscriber & Male   & 1986 & New York City\\\\\n",
       "\\end{tabular}\n"
      ],
      "text/markdown": [
       "\n",
       "A data.frame: 6 × 10\n",
       "\n",
       "| <!--/--> | X &lt;int&gt; | Start.Time &lt;fct&gt; | End.Time &lt;fct&gt; | Trip.Duration &lt;dbl&gt; | Start.Station &lt;fct&gt; | End.Station &lt;fct&gt; | User.Type &lt;fct&gt; | Gender &lt;fct&gt; | Birth.Year &lt;dbl&gt; | City &lt;chr&gt; |\n",
       "|---|---|---|---|---|---|---|---|---|---|---|\n",
       "| 1 | 5688089 | 2017-06-11 14:55:05 | 2017-06-11 15:08:21 |  795 | Suffolk St &amp; Stanton St | W Broadway &amp; Spring St | Subscriber | Male   | 1998 | New York City |\n",
       "| 2 | 4096714 | 2017-05-11 15:30:11 | 2017-05-11 15:41:43 |  692 | Lexington Ave &amp; E 63 St | 1 Ave &amp; E 78 St        | Subscriber | Male   | 1981 | New York City |\n",
       "| 3 | 2173887 | 2017-03-29 13:26:26 | 2017-03-29 13:48:31 | 1325 | 1 Pl &amp; Clinton St       | Henry St &amp; Degraw St   | Subscriber | Male   | 1987 | New York City |\n",
       "| 4 | 3945638 | 2017-05-08 19:47:18 | 2017-05-08 19:59:01 |  703 | Barrow St &amp; Hudson St   | W 20 St &amp; 8 Ave        | Subscriber | Female | 1986 | New York City |\n",
       "| 5 | 6208972 | 2017-06-21 07:49:16 | 2017-06-21 07:54:46 |  329 | 1 Ave &amp; E 44 St         | E 53 St &amp; 3 Ave        | Subscriber | Male   | 1992 | New York City |\n",
       "| 6 | 1285652 | 2017-02-22 18:55:24 | 2017-02-22 19:12:03 |  998 | State St &amp; Smith St     | Bond St &amp; Fulton St    | Subscriber | Male   | 1986 | New York City |\n",
       "\n"
      ],
      "text/plain": [
       "  X       Start.Time          End.Time            Trip.Duration\n",
       "1 5688089 2017-06-11 14:55:05 2017-06-11 15:08:21  795         \n",
       "2 4096714 2017-05-11 15:30:11 2017-05-11 15:41:43  692         \n",
       "3 2173887 2017-03-29 13:26:26 2017-03-29 13:48:31 1325         \n",
       "4 3945638 2017-05-08 19:47:18 2017-05-08 19:59:01  703         \n",
       "5 6208972 2017-06-21 07:49:16 2017-06-21 07:54:46  329         \n",
       "6 1285652 2017-02-22 18:55:24 2017-02-22 19:12:03  998         \n",
       "  Start.Station           End.Station            User.Type  Gender Birth.Year\n",
       "1 Suffolk St & Stanton St W Broadway & Spring St Subscriber Male   1998      \n",
       "2 Lexington Ave & E 63 St 1 Ave & E 78 St        Subscriber Male   1981      \n",
       "3 1 Pl & Clinton St       Henry St & Degraw St   Subscriber Male   1987      \n",
       "4 Barrow St & Hudson St   W 20 St & 8 Ave        Subscriber Female 1986      \n",
       "5 1 Ave & E 44 St         E 53 St & 3 Ave        Subscriber Male   1992      \n",
       "6 State St & Smith St     Bond St & Fulton St    Subscriber Male   1986      \n",
       "  City         \n",
       "1 New York City\n",
       "2 New York City\n",
       "3 New York City\n",
       "4 New York City\n",
       "5 New York City\n",
       "6 New York City"
      ]
     },
     "metadata": {},
     "output_type": "display_data"
    }
   ],
   "source": [
    "# Concatenating all three datasets together as \"city\"\n",
    "city <- concatenation(ny,wash)     #city <- rbind(ny, wash)\n",
    "city <- concatenation(city,chi)    #city <- rbind(city, chi)\n",
    "head(city)"
   ]
  },
  {
   "cell_type": "markdown",
   "metadata": {},
   "source": [
    "### Question 1\n",
    "\n",
    "\n",
    "**What is the average travel time for users in different cities?**\n",
    "\n",
    "##Trip duration"
   ]
  },
  {
   "cell_type": "code",
   "execution_count": 19,
   "metadata": {},
   "outputs": [
    {
     "name": "stdout",
     "output_type": "stream",
     "text": [
      "\n",
      "      Chicago New York City    Washington \n",
      "         8630         54770         89051 \n"
     ]
    },
    {
     "data": {
      "text/plain": [
       "\n",
       "      Chicago New York City    Washington \n",
       "         5.66         35.93         58.41 "
      ]
     },
     "metadata": {},
     "output_type": "display_data"
    }
   ],
   "source": [
    "# Count of users in City\n",
    "total_city = sort(table(city$City))\n",
    "print(total_city)\n",
    "\n",
    "# percentage of users in City\n",
    "round((total_city / sum(total_city) * 100), digits = 2)"
   ]
  },
  {
   "cell_type": "code",
   "execution_count": 34,
   "metadata": {
    "scrolled": false
   },
   "outputs": [
    {
     "name": "stderr",
     "output_type": "stream",
     "text": [
      "Warning message:\n",
      "“Removed 2 rows containing non-finite values (stat_summary).”\n"
     ]
    },
    {
     "data": {
      "image/png": "[encoded data removed]",
      "text/plain": [
       "plot without title"
      ]
     },
     "metadata": {
      "image/png": {
       "height": 420,
       "width": 420
      },
      "text/plain": {
       "height": 420,
       "width": 420
      }
     },
     "output_type": "display_data"
    }
   ],
   "source": [
    "# Visualizing data with ggplot\n",
    "ggplot(aes(x = City, y = Trip.Duration), data = city) +\n",
    "    geom_bar(position = 'dodge', stat = \"summary\", fun.y = \"mean\", fill = \"green\", colour=\"black\") + \n",
    "    ggtitle('The average travel time for users in different cities') +\n",
    "    labs(y = 'Average Trip Duration', x = 'City') +\n",
    "    coord_flip()"
   ]
  },
  {
   "cell_type": "code",
   "execution_count": 21,
   "metadata": {},
   "outputs": [
    {
     "data": {
      "text/html": [
       "<table class=\"dataframe\">\n",
       "<caption>A data.frame: 3 × 2</caption>\n",
       "<thead>\n",
       "\t<tr><th scope=col>City</th><th scope=col>Average.Trip.Duration</th></tr>\n",
       "\t<tr><th scope=col>&lt;chr&gt;</th><th scope=col>&lt;dbl&gt;</th></tr>\n",
       "</thead>\n",
       "<tbody>\n",
       "\t<tr><td>Chicago      </td><td> 937.1728</td></tr>\n",
       "\t<tr><td>New York City</td><td> 903.6147</td></tr>\n",
       "\t<tr><td>Washington   </td><td>1233.9533</td></tr>\n",
       "</tbody>\n",
       "</table>\n"
      ],
      "text/latex": [
       "A data.frame: 3 × 2\n",
       "\\begin{tabular}{ll}\n",
       " City & Average.Trip.Duration\\\\\n",
       " <chr> & <dbl>\\\\\n",
       "\\hline\n",
       "\t Chicago       &  937.1728\\\\\n",
       "\t New York City &  903.6147\\\\\n",
       "\t Washington    & 1233.9533\\\\\n",
       "\\end{tabular}\n"
      ],
      "text/markdown": [
       "\n",
       "A data.frame: 3 × 2\n",
       "\n",
       "| City &lt;chr&gt; | Average.Trip.Duration &lt;dbl&gt; |\n",
       "|---|---|\n",
       "| Chicago       |  937.1728 |\n",
       "| New York City |  903.6147 |\n",
       "| Washington    | 1233.9533 |\n",
       "\n"
      ],
      "text/plain": [
       "  City          Average.Trip.Duration\n",
       "1 Chicago        937.1728            \n",
       "2 New York City  903.6147            \n",
       "3 Washington    1233.9533            "
      ]
     },
     "metadata": {},
     "output_type": "display_data"
    }
   ],
   "source": [
    "my.summary <- with(city, aggregate(list(Trip.Duration), by = list(City), \n",
    "                   FUN = function(x) { mon.mean = mean(x, na.rm = TRUE) } ))\n",
    "\n",
    "colnames(my.summary) <- c('City', 'Average.Trip.Duration')\n",
    "my.summary"
   ]
  },
  {
   "cell_type": "markdown",
   "metadata": {},
   "source": [
    "**Summary of your question 1 results goes here.**\n",
    "* Percentage count of users in `Chicago is 5.66%`, `New York City is 35.93%` and `Washington is 58.41%`.\n",
    "* `Washington`(1233.9533) is leading among all of them in average trip duration due to more number of users.\n",
    "* The average ride duration in `Chicago`(937.1728) and `New York City`(903.6147) cities is more or less the same.\n",
    "* Although the number of users in Chicago is comparatively less among all, but average trip duration is almost same with New York City."
   ]
  },
  {
   "cell_type": "markdown",
   "metadata": {},
   "source": [
    "### Question 2\n",
    "\n",
    "**What are the counts of each gender (only available for NYC and Chicago)?**\n",
    "\n",
    "##User info"
   ]
  },
  {
   "cell_type": "code",
   "execution_count": 22,
   "metadata": {},
   "outputs": [],
   "source": [
    "# Creating new city2 by binding 'New York City' and 'Chicago' data\n",
    "# Here omitting Washington data is done due to lack of information about 'Gender' and 'Birth.Year'\n",
    "\n",
    "city2 <- concatenation(chi,ny)      #city2 <- rbind(chi, ny)"
   ]
  },
  {
   "cell_type": "code",
   "execution_count": 23,
   "metadata": {},
   "outputs": [
    {
     "name": "stdout",
     "output_type": "stream",
     "text": [
      "\n",
      "       Female   Male \n",
      "  7158  13882  42360 \n"
     ]
    },
    {
     "data": {
      "text/plain": [
       "\n",
       "       Female   Male \n",
       " 11.29  21.90  66.81 "
      ]
     },
     "metadata": {},
     "output_type": "display_data"
    }
   ],
   "source": [
    "# Count of Gender (Male and Female)\n",
    "total = sort(table(city2$Gender))\n",
    "print(total)\n",
    "\n",
    "# percentage of Gender (Male and Female)\n",
    "round((total / length(city2$Gender) * 100), digits = 2)"
   ]
  },
  {
   "cell_type": "code",
   "execution_count": 35,
   "metadata": {},
   "outputs": [
    {
     "data": {
      "image/png": "[encoded data removed]",
      "text/plain": [
       "plot without title"
      ]
     },
     "metadata": {
      "image/png": {
       "height": 420,
       "width": 420
      },
      "text/plain": {
       "height": 420,
       "width": 420
      }
     },
     "output_type": "display_data"
    }
   ],
   "source": [
    "# Visualizing data with ggplot\n",
    "ggplot(aes(x = Gender, fill = City), data = city2) +\n",
    "    geom_bar(position = 'dodge', colour=\"black\") +\n",
    "    ggtitle('Counts of each gender') +\n",
    "    scale_x_discrete(labels = c('Not mentioned', 'Female', 'Male')) +\n",
    "    labs(y = 'Number of Riders', x = 'Gender') +\n",
    "    scale_fill_manual(\"legend\", values = c(\"Chicago\" = \"red\", \"New York City\" = \"orange\"))"
   ]
  },
  {
   "cell_type": "code",
   "execution_count": 25,
   "metadata": {},
   "outputs": [
    {
     "name": "stdout",
     "output_type": "stream",
     "text": [
      "\n",
      "Female          Male \n",
      "  1723   1748   5159 \n"
     ]
    },
    {
     "data": {
      "text/plain": [
       "\n",
       "Female          Male \n",
       " 19.97  20.25  59.78 "
      ]
     },
     "metadata": {},
     "output_type": "display_data"
    }
   ],
   "source": [
    "# Count of Gender(Male and Female) in Chicago\n",
    "total_chi = sort(table(city2$Gender[city2$City == 'Chicago']))\n",
    "print(total_chi)\n",
    "\n",
    "# percentage of Gender(Male and Female) in Chicago\n",
    "round((total_chi / length(city2$Gender[city2$City == 'Chicago']) * 100), digits = 2)"
   ]
  },
  {
   "cell_type": "code",
   "execution_count": 26,
   "metadata": {},
   "outputs": [
    {
     "name": "stdout",
     "output_type": "stream",
     "text": [
      "\n",
      "       Female   Male \n",
      "  5410  12159  37201 \n"
     ]
    },
    {
     "data": {
      "text/plain": [
       "\n",
       "       Female   Male \n",
       "  9.88  22.20  67.92 "
      ]
     },
     "metadata": {},
     "output_type": "display_data"
    }
   ],
   "source": [
    "# Count of Gender(Male and Female) in New York City\n",
    "total_ny = sort(table(city2$Gender[city2$City == 'New York City']))\n",
    "print(total_ny)\n",
    "\n",
    "# percentage of Gender(Male and Female) in Chicago\n",
    "round((total_ny / length(city2$Gender[city2$City == 'New York City']) * 100), digits = 2)"
   ]
  },
  {
   "cell_type": "markdown",
   "metadata": {},
   "source": [
    "**Summary of your question 2 results goes here.**\n",
    "\n",
    "Here omitting Washington data is done due to lack of information about 'Gender' and 'Birth.Year'.\n",
    "* In Chicago and New York City, number of users:\n",
    "    * Male         : 42360 (66.81%)\n",
    "    * Female       : 13882 (21.90%)\n",
    "    * Not Mentioned: 7158  (11.29%)\n",
    "* In New York City, among all users there are `67.92% of Male` , `22.20% of Female` and `9.88% of Not Mentioned'.\n",
    "* In Chicago, among all users there are `59.78% of Male` , `19.97% of Female` and `20.25% of Not Mentioned`.\n",
    "* By a large magnitude `Males` (42360) tends to rent more bikes than `Females` (13882) do, across both Chicago and New York City.\n",
    "* Number of data points were null and for some reason riders did not disclose their gender. "
   ]
  },
  {
   "cell_type": "markdown",
   "metadata": {},
   "source": [
    "### Question 3\n",
    "\n",
    "**What is the most common month?**\n",
    "\n",
    "##Popular time of travel (i.e., occurs most often in the start time)"
   ]
  },
  {
   "cell_type": "code",
   "execution_count": 27,
   "metadata": {},
   "outputs": [
    {
     "name": "stderr",
     "output_type": "stream",
     "text": [
      "Warning message:\n",
      "“ 1 failed to parse.”\n"
     ]
    }
   ],
   "source": [
    "# Re-formatting of date columns\n",
    "city$Start.Time <- ymd_hms(city$Start.Time)\n",
    "city$End.Time <- ymd_hms(city$End.Time)"
   ]
  },
  {
   "cell_type": "code",
   "execution_count": 28,
   "metadata": {},
   "outputs": [],
   "source": [
    "# Creating new column 'Month' extracting from Start.Time\n",
    "city$Month <- month(city$Start.Time)"
   ]
  },
  {
   "cell_type": "code",
   "execution_count": 36,
   "metadata": {},
   "outputs": [
    {
     "name": "stderr",
     "output_type": "stream",
     "text": [
      "Warning message:\n",
      "“Removed 1 rows containing non-finite values (stat_count).”\n"
     ]
    },
    {
     "data": {
      "image/png": "[encoded data removed]",
      "text/plain": [
       "plot without title"
      ]
     },
     "metadata": {
      "image/png": {
       "height": 420,
       "width": 420
      },
      "text/plain": {
       "height": 420,
       "width": 420
      }
     },
     "output_type": "display_data"
    }
   ],
   "source": [
    "# Visualizing data with ggplot\n",
    "ggplot(aes(x = Month, fill = City), data = city) +\n",
    "    geom_bar(position = 'dodge', colour=\"black\") +\n",
    "    scale_x_continuous(breaks = c(1,2,3,4,5,6), labels = c('Jan', 'Feb', 'Mar', 'Apr', 'May', 'Jun')) +\n",
    "    ggtitle('Number of Rides in different Months') +\n",
    "    labs(y = 'Number of Rides', x = 'Month') +\n",
    "    scale_fill_manual(\"legend\", values = c(\"Chicago\" = \"black\", \"New York City\" = \"orange\", \"Washington\" = \"red\"))"
   ]
  },
  {
   "cell_type": "code",
   "execution_count": 30,
   "metadata": {},
   "outputs": [],
   "source": [
    "# Load function\n",
    "source(\"http://pcwww.liv.ac.uk/~william/R/crosstab.r\")"
   ]
  },
  {
   "cell_type": "markdown",
   "metadata": {},
   "source": [
    "###################################################################################\n",
    "\n",
    "`Function created by Dr Paul Williamson, Dept. of Geography and Planning,       \n",
    " School of Environmental Sciences, University of Liverpool, UK.                  \n",
    " Adapted from the function ctab() in the catspec packge.                         \n",
    " Version: 12th July 2013                                                         \n",
    " Output best viewed using the companion function print.crosstab()`               \n",
    "###################################################################################"
   ]
  },
  {
   "cell_type": "code",
   "execution_count": 31,
   "metadata": {},
   "outputs": [
    {
     "data": {
      "text/plain": [
       "     \n",
       "Month     Count   Total %\n",
       "  1    15341.00     10.06\n",
       "  2    18857.00     12.37\n",
       "  3    19235.00     12.62\n",
       "  4    30709.00     20.14\n",
       "  5    31157.00     20.44\n",
       "  6    37151.00     24.37\n",
       "  Sum 152450.00    100.00"
      ]
     },
     "metadata": {},
     "output_type": "display_data"
    }
   ],
   "source": [
    "# Count and percentage of users per month\n",
    "crosstab(city, row.vars = \"Month\")"
   ]
  },
  {
   "cell_type": "code",
   "execution_count": 32,
   "metadata": {},
   "outputs": [
    {
     "data": {
      "text/plain": [
       "      City Chicago New York City Washington    Sum\n",
       "Month                                             \n",
       "1              650          5745       8946  15341\n",
       "2              930          6364      11563  18857\n",
       "3              803          5820      12612  19235\n",
       "4             1526         10661      18522  30709\n",
       "5             1905         12180      17072  31157\n",
       "6             2816         14000      20335  37151\n",
       "Sum           8630         54770      89050 152450"
      ]
     },
     "metadata": {},
     "output_type": "display_data"
    },
    {
     "data": {
      "text/plain": [
       "      City Chicago New York City Washington    Sum\n",
       "Month                                             \n",
       "1             4.24         37.45      58.31 100.00\n",
       "2             4.93         33.75      61.32 100.00\n",
       "3             4.17         30.26      65.57 100.00\n",
       "4             4.97         34.72      60.31 100.00\n",
       "5             6.11         39.09      54.79 100.00\n",
       "6             7.58         37.68      54.74 100.00"
      ]
     },
     "metadata": {},
     "output_type": "display_data"
    }
   ],
   "source": [
    "# Count of users per month by grouped by cities\n",
    "crosstab(city, row.vars = \"Month\", col.vars = \"City\")\n",
    "\n",
    "# Percentage of users per month by grouped by cities\n",
    "crosstab(city, row.vars = \"Month\", col.vars = \"City\", type = \"r\")"
   ]
  },
  {
   "cell_type": "markdown",
   "metadata": {},
   "source": [
    "**Summary of your question 3 results goes here.**\n",
    "\n",
    "* The most popular month in all three Chicago, New York City, Washington is month `6 (JUNE) with 24.37%` followed by 5 (May) with 20.44% and so on.\n",
    "* Least common month is `1 (JANUARY) with 10.06%`.\n",
    "* Again `Washington` with an average of 59.45% is leading among all of them followed by `New York City` with an average of 35.30% and `Chicago` with an average of 5.25%.\n",
    "* Which makes sense, because people drive bikes more in the summer than the other seasons, which justify the increment in the number of trips in each month because the weather is getting nicer (no more rain)."
   ]
  },
  {
   "cell_type": "code",
   "execution_count": 33,
   "metadata": {},
   "outputs": [],
   "source": [
    "system('python -m nbconvert Explore_bikeshare_data.ipynb')"
   ]
  }
 ],
 "metadata": {
  "kernelspec": {
   "display_name": "R",
   "language": "R",
   "name": "ir"
  },
  "language_info": {
   "codemirror_mode": "r",
   "file_extension": ".r",
   "mimetype": "text/x-r-source",
   "name": "R",
   "pygments_lexer": "r",
   "version": "3.6.3"
  }
 },
 "nbformat": 4,
 "nbformat_minor": 4
}
